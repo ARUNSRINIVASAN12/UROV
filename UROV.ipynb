{
  "nbformat": 4,
  "nbformat_minor": 0,
  "metadata": {
    "colab": {
      "name": "UROV.ipynb",
      "provenance": []
    },
    "kernelspec": {
      "name": "python3",
      "display_name": "Python 3"
    },
    "language_info": {
      "name": "python"
    },
    "accelerator": "GPU"
  },
  "cells": [
    {
      "cell_type": "code",
      "metadata": {
        "colab": {
          "base_uri": "https://localhost:8080/"
        },
        "id": "Pz-2uAzF9_JZ",
        "outputId": "621c442d-c302-4312-87e3-da5187aa8b37"
      },
      "source": [
        "from google.colab import drive\n",
        "drive.mount(\"/content/drive\")"
      ],
      "execution_count": 1,
      "outputs": [
        {
          "output_type": "stream",
          "name": "stdout",
          "text": [
            "Drive already mounted at /content/drive; to attempt to forcibly remount, call drive.mount(\"/content/drive\", force_remount=True).\n"
          ]
        }
      ]
    },
    {
      "cell_type": "code",
      "metadata": {
        "id": "6TnE5P4n-VSy"
      },
      "source": [
        "# Train/Val/Test - 0.65:0.20:0.15\n",
        "# CPU - Intel(R) Xeon(R) CPU @ 2.30GHz\n",
        "# GPU - Tesla K80"
      ],
      "execution_count": null,
      "outputs": []
    },
    {
      "cell_type": "code",
      "metadata": {
        "id": "lpEwGLpd-yPy"
      },
      "source": [
        "from tensorflow.keras.layers import Conv2D, Dense, MaxPooling2D, Dropout, BatchNormalization, Flatten\n",
        "from tensorflow.keras.models import Model\n",
        "from tensorflow.keras.preprocessing.image import ImageDataGenerator\n",
        "from tensorflow.keras.applications.resnet50 import decode_predictions, preprocess_input, ResNet50\n",
        "import pandas as pd\n",
        "import numpy as np\n",
        "import seaborn as sn"
      ],
      "execution_count": 2,
      "outputs": []
    },
    {
      "cell_type": "code",
      "metadata": {
        "id": "-9coC3Xe-90j"
      },
      "source": [
        "img_gen = ImageDataGenerator(preprocessing_function = preprocess_input, horizontal_flip = True, vertical_flip = True)"
      ],
      "execution_count": 3,
      "outputs": []
    },
    {
      "cell_type": "code",
      "metadata": {
        "colab": {
          "base_uri": "https://localhost:8080/"
        },
        "id": "N2QAE3Hk_BEW",
        "outputId": "a5c30c81-87a1-47e0-ab93-23462ba9a647"
      },
      "source": [
        "train_data = img_gen.flow_from_directory(\"/content/drive/MyDrive/UROV_dataset/output/train\", target_size = (224,224), class_mode = \"binary\", batch_size = 32)\n",
        "valid_data = img_gen.flow_from_directory(\"/content/drive/MyDrive/UROV_dataset/output/val\", target_size = (224,224), class_mode = \"binary\", batch_size = 32, classes = train_data.class_indices)\n",
        "test_data = img_gen.flow_from_directory(\"/content/drive/MyDrive/UROV_dataset/output/test\", target_size = (224,224), class_mode = \"binary\", batch_size = 1, classes = train_data.class_indices)"
      ],
      "execution_count": 4,
      "outputs": [
        {
          "output_type": "stream",
          "name": "stdout",
          "text": [
            "Found 1530 images belonging to 2 classes.\n",
            "Found 470 images belonging to 2 classes.\n",
            "Found 355 images belonging to 2 classes.\n"
          ]
        }
      ]
    },
    {
      "cell_type": "code",
      "metadata": {
        "id": "MPY4INxK_JtO"
      },
      "source": [
        "base_model = ResNet50(include_top = False, weights = \"imagenet\", input_shape = (224,224,3))\n",
        "\n",
        "for layer in base_model.layers :\n",
        "  layer.trainable = False\n",
        "\n",
        "for layer in base_model.layers[-1:] :\n",
        "  layer.trainable = True\n",
        "\n",
        "x = base_model.output\n",
        "x = Flatten()(x)\n",
        "x = BatchNormalization()(x)\n",
        "x = Dense(128, activation = \"relu\")(x)\n",
        "x = Dropout(0.5)(x)\n",
        "x = BatchNormalization()(x)\n",
        "pred = Dense(1, activation = \"sigmoid\")(x)\n",
        "\n",
        "model = Model(inputs = base_model.input, outputs = pred)"
      ],
      "execution_count": 5,
      "outputs": []
    },
    {
      "cell_type": "code",
      "metadata": {
        "id": "jmI9GMuPGUG7"
      },
      "source": [
        "model.summary()"
      ],
      "execution_count": null,
      "outputs": []
    },
    {
      "cell_type": "code",
      "metadata": {
        "id": "3r9jXNZx_oXO"
      },
      "source": [
        "model.compile(optimizer = \"adam\", loss = \"binary_crossentropy\", metrics = [\"accuracy\"])"
      ],
      "execution_count": 6,
      "outputs": []
    },
    {
      "cell_type": "code",
      "metadata": {
        "colab": {
          "base_uri": "https://localhost:8080/"
        },
        "id": "j-9OzCpG_qhl",
        "outputId": "3448e977-7434-48ab-e558-e745b5246c87"
      },
      "source": [
        "import tensorflow as tf\n",
        "\n",
        "with tf.device(\"/gpu:1\") :\n",
        "  history = model.fit(train_data, epochs = 15, validation_data = valid_data)"
      ],
      "execution_count": 7,
      "outputs": [
        {
          "output_type": "stream",
          "name": "stdout",
          "text": [
            "Epoch 1/15\n",
            "48/48 [==============================] - 24s 363ms/step - loss: 0.2872 - accuracy: 0.8824 - val_loss: 0.2285 - val_accuracy: 0.9574\n",
            "Epoch 2/15\n",
            "48/48 [==============================] - 14s 298ms/step - loss: 0.1466 - accuracy: 0.9510 - val_loss: 0.1182 - val_accuracy: 0.9681\n",
            "Epoch 3/15\n",
            "48/48 [==============================] - 14s 298ms/step - loss: 0.1111 - accuracy: 0.9588 - val_loss: 0.1032 - val_accuracy: 0.9723\n",
            "Epoch 4/15\n",
            "48/48 [==============================] - 14s 299ms/step - loss: 0.0734 - accuracy: 0.9745 - val_loss: 0.0975 - val_accuracy: 0.9617\n",
            "Epoch 5/15\n",
            "48/48 [==============================] - 14s 299ms/step - loss: 0.0742 - accuracy: 0.9752 - val_loss: 0.1004 - val_accuracy: 0.9511\n",
            "Epoch 6/15\n",
            "48/48 [==============================] - 14s 299ms/step - loss: 0.0589 - accuracy: 0.9797 - val_loss: 0.0935 - val_accuracy: 0.9702\n",
            "Epoch 7/15\n",
            "48/48 [==============================] - 14s 298ms/step - loss: 0.0433 - accuracy: 0.9843 - val_loss: 0.0910 - val_accuracy: 0.9702\n",
            "Epoch 8/15\n",
            "48/48 [==============================] - 14s 299ms/step - loss: 0.0442 - accuracy: 0.9830 - val_loss: 0.0893 - val_accuracy: 0.9681\n",
            "Epoch 9/15\n",
            "48/48 [==============================] - 14s 299ms/step - loss: 0.0420 - accuracy: 0.9830 - val_loss: 0.0999 - val_accuracy: 0.9638\n",
            "Epoch 10/15\n",
            "48/48 [==============================] - 14s 299ms/step - loss: 0.0297 - accuracy: 0.9928 - val_loss: 0.1056 - val_accuracy: 0.9660\n",
            "Epoch 11/15\n",
            "48/48 [==============================] - 14s 298ms/step - loss: 0.0273 - accuracy: 0.9908 - val_loss: 0.0872 - val_accuracy: 0.9638\n",
            "Epoch 12/15\n",
            "48/48 [==============================] - 14s 299ms/step - loss: 0.0235 - accuracy: 0.9941 - val_loss: 0.0888 - val_accuracy: 0.9702\n",
            "Epoch 13/15\n",
            "48/48 [==============================] - 14s 299ms/step - loss: 0.0311 - accuracy: 0.9941 - val_loss: 0.0949 - val_accuracy: 0.9745\n",
            "Epoch 14/15\n",
            "48/48 [==============================] - 14s 299ms/step - loss: 0.0180 - accuracy: 0.9941 - val_loss: 0.0962 - val_accuracy: 0.9723\n",
            "Epoch 15/15\n",
            "48/48 [==============================] - 14s 298ms/step - loss: 0.0206 - accuracy: 0.9941 - val_loss: 0.0908 - val_accuracy: 0.9681\n"
          ]
        }
      ]
    },
    {
      "cell_type": "code",
      "metadata": {
        "colab": {
          "base_uri": "https://localhost:8080/"
        },
        "id": "JsLvItbdHmni",
        "outputId": "a7ff9475-f18e-44db-ce32-65153d944188"
      },
      "source": [
        "model.evaluate(train_data)"
      ],
      "execution_count": 61,
      "outputs": [
        {
          "output_type": "stream",
          "name": "stdout",
          "text": [
            "48/48 [==============================] - 11s 221ms/step - loss: 0.0044 - accuracy: 1.0000\n"
          ]
        },
        {
          "output_type": "execute_result",
          "data": {
            "text/plain": [
              "[0.004366893786936998, 1.0]"
            ]
          },
          "metadata": {},
          "execution_count": 61
        }
      ]
    },
    {
      "cell_type": "code",
      "metadata": {
        "colab": {
          "base_uri": "https://localhost:8080/",
          "height": 283
        },
        "id": "Q5QkNp_EEd1X",
        "outputId": "332a6d4c-cda6-4bfa-d9bd-1145dc2873a4"
      },
      "source": [
        "import matplotlib.pyplot as plt\n",
        "\n",
        "plt.figure()\n",
        "plt.plot(history.history['loss'])\n",
        "plt.plot(history.history['val_loss'])\n",
        "plt.legend([\"Training\", \"Validation\"])\n",
        "plt.xlabel(\"Epochs\")\n",
        "plt.ylabel(\"Loss\")\n",
        "plt.show()"
      ],
      "execution_count": 9,
      "outputs": [
        {
          "output_type": "display_data",
          "data": {
            "image/png": "[encoded data removed]",
            "text/plain": [
              "<Figure size 432x288 with 1 Axes>"
            ]
          },
          "metadata": {
            "needs_background": "light"
          }
        }
      ]
    },
    {
      "cell_type": "code",
      "metadata": {
        "colab": {
          "base_uri": "https://localhost:8080/",
          "height": 279
        },
        "id": "J0-hf0g4FLAt",
        "outputId": "9eb4fa36-0e90-48c3-e1f2-6666c1ba0ce1"
      },
      "source": [
        "plt.figure()\n",
        "plt.plot(history.history['accuracy'])\n",
        "plt.plot(history.history['val_accuracy'])\n",
        "plt.legend([\"Training\", \"Validation\"])\n",
        "plt.xlabel(\"Epochs\")\n",
        "plt.ylabel(\"Accuracy\")\n",
        "plt.show()"
      ],
      "execution_count": 10,
      "outputs": [
        {
          "output_type": "display_data",
          "data": {
            "image/png": "[encoded data removed]",
            "text/plain": [
              "<Figure size 432x288 with 1 Axes>"
            ]
          },
          "metadata": {
            "needs_background": "light"
          }
        }
      ]
    },
    {
      "cell_type": "code",
      "metadata": {
        "id": "MEKGEWDYGLF0"
      },
      "source": [
        "y_pred = []\n",
        "y_act = []\n",
        "\n",
        "test_data.reset()\n",
        "\n",
        "for i in range(len(test_data.filenames)) :\n",
        "  x, y = test_data.next()\n",
        "  y_act.append(int(y))\n",
        "  y_pred.append(round(model.predict(x)[0][0]))"
      ],
      "execution_count": 30,
      "outputs": []
    },
    {
      "cell_type": "code",
      "metadata": {
        "id": "IHfg83KRLBBB"
      },
      "source": [
        "pred_list = [list(test_data.class_indices.keys())[i] for i in y_pred]\n",
        "act_list = [list(test_data.class_indices.keys())[i] for i in y_act]"
      ],
      "execution_count": 38,
      "outputs": []
    },
    {
      "cell_type": "code",
      "metadata": {
        "id": "aUdHixBiLSM2"
      },
      "source": [
        "data = pd.DataFrame(np.vstack([pred_list, act_list]).T, columns = [\"Barnacles\", \"non-Barnacles\"])"
      ],
      "execution_count": 50,
      "outputs": []
    },
    {
      "cell_type": "code",
      "metadata": {
        "id": "s-ZG33H_Oqzv"
      },
      "source": [
        "confusion_matrix = pd.crosstab(data[\"Barnacles\"], data[\"non-Barnacles\"], rownames = [\"Actual\"], colnames = [\"Predicted\"])"
      ],
      "execution_count": 52,
      "outputs": []
    },
    {
      "cell_type": "code",
      "metadata": {
        "colab": {
          "base_uri": "https://localhost:8080/",
          "height": 142
        },
        "id": "TiUWl-4CQX7Z",
        "outputId": "76b99727-91c5-4939-92ff-6b3f8fee9b1f"
      },
      "source": [
        "confusion_matrix"
      ],
      "execution_count": 53,
      "outputs": [
        {
          "output_type": "execute_result",
          "data": {
            "text/html": [
              "<div>\n",
              "<style scoped>\n",
              "    .dataframe tbody tr th:only-of-type {\n",
              "        vertical-align: middle;\n",
              "    }\n",
              "\n",
              "    .dataframe tbody tr th {\n",
              "        vertical-align: top;\n",
              "    }\n",
              "\n",
              "    .dataframe thead th {\n",
              "        text-align: right;\n",
              "    }\n",
              "</style>\n",
              "<table border=\"1\" class=\"dataframe\">\n",
              "  <thead>\n",
              "    <tr style=\"text-align: right;\">\n",
              "      <th>Predicted</th>\n",
              "      <th>barnacles</th>\n",
              "      <th>non_barnacles</th>\n",
              "    </tr>\n",
              "    <tr>\n",
              "      <th>Actual</th>\n",
              "      <th></th>\n",
              "      <th></th>\n",
              "    </tr>\n",
              "  </thead>\n",
              "  <tbody>\n",
              "    <tr>\n",
              "      <th>barnacles</th>\n",
              "      <td>147</td>\n",
              "      <td>10</td>\n",
              "    </tr>\n",
              "    <tr>\n",
              "      <th>non_barnacles</th>\n",
              "      <td>7</td>\n",
              "      <td>191</td>\n",
              "    </tr>\n",
              "  </tbody>\n",
              "</table>\n",
              "</div>"
            ],
            "text/plain": [
              "Predicted      barnacles  non_barnacles\n",
              "Actual                                 \n",
              "barnacles            147             10\n",
              "non_barnacles          7            191"
            ]
          },
          "metadata": {},
          "execution_count": 53
        }
      ]
    },
    {
      "cell_type": "code",
      "metadata": {
        "colab": {
          "base_uri": "https://localhost:8080/",
          "height": 297
        },
        "id": "4j4bZP3dQncC",
        "outputId": "3141ba93-f518-4b6d-c4ed-2a0d99256177"
      },
      "source": [
        "sn.heatmap(confusion_matrix, annot = True, fmt = \"d\", cmap = \"Blues\")"
      ],
      "execution_count": 60,
      "outputs": [
        {
          "output_type": "execute_result",
          "data": {
            "text/plain": [
              "<matplotlib.axes._subplots.AxesSubplot at 0x7f6940d210d0>"
            ]
          },
          "metadata": {},
          "execution_count": 60
        },
        {
          "output_type": "display_data",
          "data": {
            "image/png": "[encoded data removed]",
            "text/plain": [
              "<Figure size 432x288 with 2 Axes>"
            ]
          },
          "metadata": {
            "needs_background": "light"
          }
        }
      ]
    },
    {
      "cell_type": "code",
      "metadata": {
        "id": "UfqcosyYQuvf"
      },
      "source": [
        "from sklearn.metrics import classification_report"
      ],
      "execution_count": 62,
      "outputs": []
    },
    {
      "cell_type": "code",
      "metadata": {
        "colab": {
          "base_uri": "https://localhost:8080/"
        },
        "id": "j0G2Bi94Sfuw",
        "outputId": "377549fb-c76e-49df-aff2-a57d1eb6230f"
      },
      "source": [
        "print(classification_report(y_act, y_pred))"
      ],
      "execution_count": 63,
      "outputs": [
        {
          "output_type": "stream",
          "name": "stdout",
          "text": [
            "              precision    recall  f1-score   support\n",
            "\n",
            "           0       0.94      0.95      0.95       154\n",
            "           1       0.96      0.95      0.96       201\n",
            "\n",
            "    accuracy                           0.95       355\n",
            "   macro avg       0.95      0.95      0.95       355\n",
            "weighted avg       0.95      0.95      0.95       355\n",
            "\n"
          ]
        }
      ]
    },
    {
      "cell_type": "code",
      "metadata": {
        "id": "t0C35uvwSn9h"
      },
      "source": [
        ""
      ],
      "execution_count": null,
      "outputs": []
    }
  ]
}